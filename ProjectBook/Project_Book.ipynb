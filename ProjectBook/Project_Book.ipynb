{
 "cells": [
  {
   "cell_type": "code",
   "execution_count": 1,
   "id": "1fa165bc-5e22-44a7-b907-3e1dd89291b5",
   "metadata": {},
   "outputs": [],
   "source": [
    "import requests\n",
    "from bs4 import BeautifulSoup\n",
    "import pandas as pd"
   ]
  },
  {
   "cell_type": "code",
   "execution_count": 2,
   "id": "c6bda006-45de-43d2-a65e-725adc84c65a",
   "metadata": {},
   "outputs": [],
   "source": [
    "def get_pages():\n",
    "    url=\"https://books.toscrape.com/catalogue/page-\"\n",
    "    pagecontents=[]\n",
    "    for i in range(1,51):\n",
    "        response=requests.get(url+str(i)+'.html')\n",
    "        if response.status_code!=200:\n",
    "            raise Exception(f\"Failed to load page{topics_url+str(i)+'.html'}\")\n",
    "        pagecontents.append(response.text)\n",
    "    doc=[]\n",
    "    for i in range(len(pagecontents)):\n",
    "        doc.append(BeautifulSoup(pagecontents[i],'html.parser'))\n",
    "    return doc"
   ]
  },
  {
   "cell_type": "code",
   "execution_count": 3,
   "id": "d9559d72-56b5-4486-804e-9a571a29bb07",
   "metadata": {},
   "outputs": [],
   "source": [
    "document=get_pages()"
   ]
  },
  {
   "cell_type": "code",
   "execution_count": 58,
   "id": "8a16c6a6-3843-4f2b-ab6c-afcfcfb6e3ce",
   "metadata": {},
   "outputs": [],
   "source": [
    "def panda_data():\n",
    "    dic={'title':[],'price($)':[],'stock':[],'rating(out_of_5)':[]}\n",
    "    for i in range(len(document)):\n",
    "        titles=document[i].find_all('article',class_='product_pod')\n",
    "        for i in titles:\n",
    "            title=i.find('h3').text.strip()\n",
    "            price=float(str(i.find('p',class_='price_color').text)[2:])\n",
    "            stock=i.find('p',class_='instock availability').text.strip()\n",
    "            rating=str(i.find('p'))[22:27]\n",
    "            dic['title'].append(title)\n",
    "            dic['price($)'].append(price)\n",
    "            dic['stock'].append(stock)\n",
    "            if rating.startswith('One'):\n",
    "                dic['rating(out_of_5)'].append(1)\n",
    "            elif rating.startswith('Two'):\n",
    "                dic['rating(out_of_5)'].append(2)\n",
    "            elif rating.startswith('Thr'):\n",
    "                dic['rating(out_of_5)'].append(3)\n",
    "            elif rating.startswith('Fou'):\n",
    "                dic['rating(out_of_5)'].append(4)\n",
    "            elif rating.startswith('Fiv'):\n",
    "                dic['rating(out_of_5)'].append(5)\n",
    "    return pd.DataFrame(dic)"
   ]
  },
  {
   "cell_type": "code",
   "execution_count": 66,
   "id": "e43abfb2-499f-4ae9-929e-04e47e65137c",
   "metadata": {},
   "outputs": [],
   "source": [
    "a=panda_data()\n",
    "b=a.to_csv('books.csv',index=False)\n",
    "b"
   ]
  },
  {
   "cell_type": "code",
   "execution_count": 68,
   "id": "c57bcd41-a4dd-4acb-aea4-e0468d5e3f45",
   "metadata": {},
   "outputs": [
    {
     "data": {
      "text/html": [
       "<div>\n",
       "<style scoped>\n",
       "    .dataframe tbody tr th:only-of-type {\n",
       "        vertical-align: middle;\n",
       "    }\n",
       "\n",
       "    .dataframe tbody tr th {\n",
       "        vertical-align: top;\n",
       "    }\n",
       "\n",
       "    .dataframe thead th {\n",
       "        text-align: right;\n",
       "    }\n",
       "</style>\n",
       "<table border=\"1\" class=\"dataframe\">\n",
       "  <thead>\n",
       "    <tr style=\"text-align: right;\">\n",
       "      <th></th>\n",
       "      <th>title</th>\n",
       "      <th>price($)</th>\n",
       "      <th>stock</th>\n",
       "      <th>rating(out_of_5)</th>\n",
       "    </tr>\n",
       "  </thead>\n",
       "  <tbody>\n",
       "    <tr>\n",
       "      <th>0</th>\n",
       "      <td>A Light in the ...</td>\n",
       "      <td>51.77</td>\n",
       "      <td>In stock</td>\n",
       "      <td>3</td>\n",
       "    </tr>\n",
       "    <tr>\n",
       "      <th>1</th>\n",
       "      <td>Tipping the Velvet</td>\n",
       "      <td>53.74</td>\n",
       "      <td>In stock</td>\n",
       "      <td>1</td>\n",
       "    </tr>\n",
       "    <tr>\n",
       "      <th>2</th>\n",
       "      <td>Soumission</td>\n",
       "      <td>50.10</td>\n",
       "      <td>In stock</td>\n",
       "      <td>1</td>\n",
       "    </tr>\n",
       "    <tr>\n",
       "      <th>3</th>\n",
       "      <td>Sharp Objects</td>\n",
       "      <td>47.82</td>\n",
       "      <td>In stock</td>\n",
       "      <td>4</td>\n",
       "    </tr>\n",
       "    <tr>\n",
       "      <th>4</th>\n",
       "      <td>Sapiens: A Brief History ...</td>\n",
       "      <td>54.23</td>\n",
       "      <td>In stock</td>\n",
       "      <td>5</td>\n",
       "    </tr>\n",
       "  </tbody>\n",
       "</table>\n",
       "</div>"
      ],
      "text/plain": [
       "                          title  price($)     stock  rating(out_of_5)\n",
       "0            A Light in the ...     51.77  In stock                 3\n",
       "1            Tipping the Velvet     53.74  In stock                 1\n",
       "2                    Soumission     50.10  In stock                 1\n",
       "3                 Sharp Objects     47.82  In stock                 4\n",
       "4  Sapiens: A Brief History ...     54.23  In stock                 5"
      ]
     },
     "execution_count": 68,
     "metadata": {},
     "output_type": "execute_result"
    }
   ],
   "source": [
    "data=pd.read_csv('books.csv')\n",
    "data.head()"
   ]
  }
 ],
 "metadata": {
  "kernelspec": {
   "display_name": "Python 3 (ipykernel)",
   "language": "python",
   "name": "python3"
  },
  "language_info": {
   "codemirror_mode": {
    "name": "ipython",
    "version": 3
   },
   "file_extension": ".py",
   "mimetype": "text/x-python",
   "name": "python",
   "nbconvert_exporter": "python",
   "pygments_lexer": "ipython3",
   "version": "3.12.7"
  }
 },
 "nbformat": 4,
 "nbformat_minor": 5
}
